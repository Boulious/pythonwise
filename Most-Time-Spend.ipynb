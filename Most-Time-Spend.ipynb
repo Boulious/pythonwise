{
 "cells": [
  {
   "cell_type": "markdown",
   "metadata": {},
   "source": [
    "# Most Time Spent\n",
    "\n",
    "Let's say we have data from [NYC City Bike Data](https://s3.amazonaws.com/tripdata/index.html)\n",
    "\n",
    "We have a `DataFrame` with `start` and `end` time. We'd like to know for each ride where it spent most of the time - `morning`, `noon`, `evening` or `night`.\n",
    "\n",
    "We're going to convert time of day to minutes since midnight, then we can look at `(start, end)` as line and find overlap between then.\n",
    "\n",
    "---\n",
    "Credits to Pietro Battiston who gave the basis for this [on stackoverflow](https://stackoverflow.com/questions/46314769/label-rows-by-most-time-spent-in-a-time-interval/46372005#46372005)."
   ]
  },
  {
   "cell_type": "code",
   "execution_count": 1,
   "metadata": {
    "collapsed": true
   },
   "outputs": [],
   "source": [
    "import numpy as np\n",
    "import pandas as pd"
   ]
  },
  {
   "cell_type": "markdown",
   "metadata": {},
   "source": [
    "### Load Data"
   ]
  },
  {
   "cell_type": "code",
   "execution_count": 2,
   "metadata": {},
   "outputs": [],
   "source": [
    "start_col, end_col = 'starttime', 'stoptime'\n",
    "\n",
    "# Loading just first 10,000 rows\n",
    "df = pd.read_csv('201501-citibike-tripdata.csv', parse_dates=[start_col, end_col], nrows=10000)"
   ]
  },
  {
   "cell_type": "markdown",
   "metadata": {},
   "source": [
    "### Parts of Day"
   ]
  },
  {
   "cell_type": "code",
   "execution_count": 3,
   "metadata": {},
   "outputs": [],
   "source": [
    "@np.vectorize\n",
    "def minutes(time):\n",
    "    \"\"\"Convert time to minutes since 00:00\n",
    "\n",
    "    >>> minutes('3:17')\n",
    "    197\n",
    "    \"\"\"\n",
    "    # Work on strings as well\n",
    "    if isinstance(time, str):\n",
    "        time = pd.Timestamp(time)\n",
    "        \n",
    "    return (time.hour * 60) + time.minute\n",
    "\n",
    "\n",
    "# Parts of day, we can have overlaps here\n",
    "parts_of_day = [\n",
    "    ('morning', minutes('05:00am'),  minutes('11:00')),\n",
    "    ('noon', minutes('11:00am'), minutes('14:00')),\n",
    "    ('evening', minutes('14:00'), minutes('19:00')),\n",
    "    # Night is two continuous parts\n",
    "    ('night_a', minutes('18:30'), minutes('23:59')),\n",
    "    ('night_b', minutes('00:00'), minutes('6:00')),\n",
    "]\n",
    "\n",
    "# Auxiliary DataFrame\n",
    "parts_df = pd.DataFrame(index=df.index)\n",
    "for col in [start_col, end_col]:\n",
    "    parts_df[col] = minutes(df[col].dt.time)\n",
    "\n",
    "for name, start, end in parts_of_day:\n",
    "    parts_df['start_p'] = start\n",
    "    parts_df['end_p'] = end\n",
    "    ends = parts_df[[end_col, 'end_p']].min(axis=1)\n",
    "    starts = parts_df[[start_col, 'start_p']].max(axis=1)\n",
    "    duration = ends - starts\n",
    "    parts_df.loc[duration >= 0, name] = duration[duration >= 0]\n",
    "\n",
    "parts_df['night'] = parts_df['night_a'] + parts_df['night_b']\n",
    "parts_df.fillna(0, inplace=True)\n",
    "\n",
    "# Assign part of day where most time was spent\n",
    "df['day_part'] = parts_df[['morning', 'noon', 'evening', 'night']].idxmax(axis=1)"
   ]
  },
  {
   "cell_type": "markdown",
   "metadata": {},
   "source": [
    "### Sample Output"
   ]
  },
  {
   "cell_type": "code",
   "execution_count": 4,
   "metadata": {},
   "outputs": [
    {
     "data": {
      "text/plain": [
       "4074    evening\n",
       "512     morning\n",
       "7975    morning\n",
       "9854       noon\n",
       "1557       noon\n",
       "7836       noon\n",
       "1814       noon\n",
       "2367    evening\n",
       "1764       noon\n",
       "7332    morning\n",
       "397     morning\n",
       "4019    evening\n",
       "657     morning\n",
       "8399       noon\n",
       "1909       noon\n",
       "2154    evening\n",
       "8687       noon\n",
       "229     morning\n",
       "4103    evening\n",
       "9966       noon\n",
       "Name: day_part, dtype: object"
      ]
     },
     "execution_count": 4,
     "metadata": {},
     "output_type": "execute_result"
    }
   ],
   "source": [
    "df['day_part'].sample(20)"
   ]
  },
  {
   "cell_type": "code",
   "execution_count": null,
   "metadata": {
    "collapsed": true
   },
   "outputs": [],
   "source": []
  }
 ],
 "metadata": {
  "kernelspec": {
   "display_name": "Python 3",
   "language": "python",
   "name": "python3"
  },
  "language_info": {
   "codemirror_mode": {
    "name": "ipython",
    "version": 3
   },
   "file_extension": ".py",
   "mimetype": "text/x-python",
   "name": "python",
   "nbconvert_exporter": "python",
   "pygments_lexer": "ipython3",
   "version": "3.6.2"
  }
 },
 "nbformat": 4,
 "nbformat_minor": 2
}
